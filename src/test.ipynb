{
 "cells": [
  {
   "cell_type": "code",
   "execution_count": 1,
   "id": "f17f76a1-dd85-48c4-b0f4-47c97ea5fcd2",
   "metadata": {},
   "outputs": [],
   "source": [
    "import yaml"
   ]
  },
  {
   "cell_type": "code",
   "execution_count": 40,
   "id": "974d6e6e-56de-4fe3-ac88-9a6bd5598c47",
   "metadata": {},
   "outputs": [],
   "source": [
    "from random import choice\n"
   ]
  },
  {
   "cell_type": "code",
   "execution_count": 10,
   "id": "a0510329-5659-4646-9e13-1cace21199de",
   "metadata": {},
   "outputs": [],
   "source": [
    "from pathlib import Path"
   ]
  },
  {
   "cell_type": "code",
   "execution_count": 2,
   "id": "b86ee105-77e3-4d12-a565-8569d4517e80",
   "metadata": {},
   "outputs": [],
   "source": [
    "with open('./../config.yml', 'r') as file:\n",
    "    prompts = yaml.safe_load(file)"
   ]
  },
  {
   "cell_type": "code",
   "execution_count": 5,
   "id": "6cd8670c-d61f-4b44-85b2-f796b652bc3b",
   "metadata": {},
   "outputs": [
    {
     "data": {
      "text/plain": [
       "'Explore themes of resilience and perseverance. How do you overcome obstacles, and what inner strengths sustain you during difficult times?'"
      ]
     },
     "execution_count": 5,
     "metadata": {},
     "output_type": "execute_result"
    }
   ],
   "source": [
    "prompts['Nine of Wands']['Prompt']"
   ]
  },
  {
   "cell_type": "code",
   "execution_count": 9,
   "id": "5beb40dd-4415-495c-9677-97ae7cc2c6d6",
   "metadata": {},
   "outputs": [
    {
     "data": {
      "text/plain": [
       "78"
      ]
     },
     "execution_count": 9,
     "metadata": {},
     "output_type": "execute_result"
    }
   ],
   "source": [
    "len(prompts.keys())"
   ]
  },
  {
   "cell_type": "code",
   "execution_count": 14,
   "id": "8022826c-46e5-4c45-a89f-b864c9f8a536",
   "metadata": {},
   "outputs": [
    {
     "data": {
      "text/plain": [
       "['/Users/shrey/.pyenv/versions/3.9.5/Library/Frameworks/Python.framework/Versions/3.9/lib/python39.zip',\n",
       " '/Users/shrey/.pyenv/versions/3.9.5/Library/Frameworks/Python.framework/Versions/3.9/lib/python3.9',\n",
       " '/Users/shrey/.pyenv/versions/3.9.5/Library/Frameworks/Python.framework/Versions/3.9/lib/python3.9/lib-dynload',\n",
       " '',\n",
       " '/Users/shrey/.pyenv/versions/3.9.5/envs/tarot_journal/lib/python3.9/site-packages']"
      ]
     },
     "execution_count": 14,
     "metadata": {},
     "output_type": "execute_result"
    }
   ],
   "source": [
    "sys.path"
   ]
  },
  {
   "cell_type": "code",
   "execution_count": 34,
   "id": "8f5fc443-f5f7-4932-90ad-b86146b6849d",
   "metadata": {},
   "outputs": [],
   "source": [
    "cw = os.getcwd()\n",
    "\n",
    "cwd = str(Path(cw).parents[0])  # \"path/to\""
   ]
  },
  {
   "cell_type": "code",
   "execution_count": 13,
   "id": "8b5efa69-0db1-439a-8ed9-9a9e039c821c",
   "metadata": {},
   "outputs": [],
   "source": [
    "import sys"
   ]
  },
  {
   "cell_type": "code",
   "execution_count": 15,
   "id": "13b0eef2-21f2-4ce0-8a2d-8a526ac8362d",
   "metadata": {},
   "outputs": [],
   "source": [
    "import os"
   ]
  },
  {
   "cell_type": "code",
   "execution_count": 28,
   "id": "66f8e1dc-376d-4112-9374-fe1711ff8f38",
   "metadata": {},
   "outputs": [],
   "source": [
    "sys.path.append(str(Path(cw).parents[0]))"
   ]
  },
  {
   "cell_type": "code",
   "execution_count": 35,
   "id": "d8d3152d-a4f0-4b99-87be-f3345cdfd21a",
   "metadata": {},
   "outputs": [],
   "source": [
    "with open(cwd+'/config.yml', 'r') as file:\n",
    "    prompts = yaml.safe_load(file)"
   ]
  },
  {
   "cell_type": "code",
   "execution_count": 43,
   "id": "abd90690-b1fb-4d6c-b1dc-a248aa135c10",
   "metadata": {},
   "outputs": [
    {
     "data": {
      "text/plain": [
       "dict_keys(['Ace of Cups', 'Two of Cups', 'Three of Cups', 'Four of Cups', 'Five of Cups', 'Six of Cups', 'Seven of Cups', 'Eight of Cups', 'Nine of Cups', 'Ten of Cups', 'Ace of Pentacles', 'Two of Pentacles', 'Three of Pentacles', 'Four of Pentacles', 'Five of Pentacles', 'Six of Pentacles', 'Seven of Pentacles', 'Eight of Pentacles', 'Nine of Pentacles', 'Ten of Pentacles', 'Ace of Swords', 'Two of Swords', 'Three of Swords', 'Four of Swords', 'Five of Swords', 'Six of Swords', 'Seven of Swords', 'Eight of Swords', 'Nine of Swords', 'Ten of Swords', 'Ace of Wands', 'Two of Wands', 'Three of Wands', 'Four of Wands', 'Five of Wands', 'Six of Wands', 'Seven of Wands', 'Eight of Wands', 'Nine of Wands', 'Ten of Wands', 'Page of Cups', 'Knight of Cups', 'Queen of Cups', 'King of Cups', 'Page of Pentacles', 'Knight of Pentacles', 'Queen of Pentacles', 'King of Pentacles', 'Page of Swords', 'Knight of Swords', 'Queen of Swords', 'King of Swords', 'Page of Wands', 'Knight of Wands', 'Queen of Wands', 'King of Wands', 'The Fool', 'The Magician', 'The High Priestess', 'The Empress', 'The Emperor', 'The Hierophant', 'The Lovers', 'The Chariot', 'Strength', 'The Hermit', 'Wheel of Fortune', 'Justice', 'The Hanged Man', 'Death', 'Temperance', 'The Devil', 'The Tower', 'The Star', 'The Moon', 'The Sun', 'Judgement', 'The World'])"
      ]
     },
     "execution_count": 43,
     "metadata": {},
     "output_type": "execute_result"
    }
   ],
   "source": [
    "prompts.keys()"
   ]
  },
  {
   "cell_type": "code",
   "execution_count": null,
   "id": "450b2759-5d78-40ab-9758-12bacec3f5ca",
   "metadata": {},
   "outputs": [],
   "source": []
  }
 ],
 "metadata": {
  "kernelspec": {
   "display_name": "Python 3 (ipykernel)",
   "language": "python",
   "name": "python3"
  },
  "language_info": {
   "codemirror_mode": {
    "name": "ipython",
    "version": 3
   },
   "file_extension": ".py",
   "mimetype": "text/x-python",
   "name": "python",
   "nbconvert_exporter": "python",
   "pygments_lexer": "ipython3",
   "version": "3.9.5"
  }
 },
 "nbformat": 4,
 "nbformat_minor": 5
}
